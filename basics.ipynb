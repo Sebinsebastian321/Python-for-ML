{
 "cells": [
  {
   "cell_type": "markdown",
   "id": "66c00e17-c541-4b4e-a8e1-fca5623772a1",
   "metadata": {
    "tags": []
   },
   "source": [
    "# Basics of `Python` programmimg\n",
    "In this notebook we will explain basic `Python` for Machine learning"
   ]
  },
  {
   "cell_type": "markdown",
   "id": "58821a4b-ee00-44fb-878a-3fe7ae6a9692",
   "metadata": {},
   "source": [
    "## Derived data types in `Python`"
   ]
  },
  {
   "cell_type": "markdown",
   "id": "0fb95237-329a-49ec-a97e-8fea66121ae2",
   "metadata": {},
   "source": [
    ">**Note:** \n",
    "\n",
    "In python `int`,`float`,`str` are atomic data types and no declaration is required.\n"
   ]
  },
  {
   "cell_type": "code",
   "execution_count": null,
   "id": "e766d49a-62b2-41a9-a5c4-4e36e4dfa09d",
   "metadata": {},
   "outputs": [],
   "source": []
  },
  {
   "cell_type": "code",
   "execution_count": 1,
   "id": "4fe73b69-8f12-40f7-bde9-2d787c91ff93",
   "metadata": {},
   "outputs": [],
   "source": [
    "my_list=[1,2,3]"
   ]
  },
  {
   "cell_type": "code",
   "execution_count": 2,
   "id": "afde6e27-79db-4cb0-8a02-604c6ff14dae",
   "metadata": {},
   "outputs": [
    {
     "data": {
      "text/plain": [
       "[1, 2, 3]"
      ]
     },
     "execution_count": 2,
     "metadata": {},
     "output_type": "execute_result"
    }
   ],
   "source": [
    "my_list"
   ]
  },
  {
   "cell_type": "code",
   "execution_count": 5,
   "id": "81de82aa-5a84-4e73-be6a-1914c6227ce9",
   "metadata": {},
   "outputs": [],
   "source": [
    "my_list=[1,'a',2,'b',3,'c']"
   ]
  },
  {
   "cell_type": "code",
   "execution_count": 6,
   "id": "3e80b59b-dfd0-4701-afcd-eced5403912f",
   "metadata": {},
   "outputs": [
    {
     "data": {
      "text/plain": [
       "[1, 'a', 2, 'b', 3, 'c']"
      ]
     },
     "execution_count": 6,
     "metadata": {},
     "output_type": "execute_result"
    }
   ],
   "source": [
    "my_list"
   ]
  },
  {
   "cell_type": "code",
   "execution_count": 9,
   "id": "f57d1f7e-ad5c-4d32-a567-62e1beedbf13",
   "metadata": {},
   "outputs": [
    {
     "data": {
      "text/plain": [
       "1"
      ]
     },
     "execution_count": 9,
     "metadata": {},
     "output_type": "execute_result"
    }
   ],
   "source": [
    "my_list[0]"
   ]
  },
  {
   "cell_type": "code",
   "execution_count": 11,
   "id": "c8f59819-b58e-4cdf-bca4-9c0793abdc6f",
   "metadata": {},
   "outputs": [],
   "source": [
    "my_list=[1,2,[100,200]]"
   ]
  },
  {
   "cell_type": "code",
   "execution_count": 12,
   "id": "0a5567aa-641d-4899-98af-02ae4cccfc9a",
   "metadata": {},
   "outputs": [
    {
     "data": {
      "text/plain": [
       "[1, 2, [100, 200]]"
      ]
     },
     "execution_count": 12,
     "metadata": {},
     "output_type": "execute_result"
    }
   ],
   "source": [
    "my_list"
   ]
  },
  {
   "cell_type": "code",
   "execution_count": 13,
   "id": "38a3ad58-139e-438d-9383-2dfa5eca5e7f",
   "metadata": {},
   "outputs": [
    {
     "data": {
      "text/plain": [
       "200"
      ]
     },
     "execution_count": 13,
     "metadata": {},
     "output_type": "execute_result"
    }
   ],
   "source": [
    "my_list[2][1]"
   ]
  },
  {
   "cell_type": "code",
   "execution_count": 14,
   "id": "1045edae-34b3-4ef6-80ae-8bf1a68bb70c",
   "metadata": {},
   "outputs": [],
   "source": [
    "my_list=['a','b','c','d']"
   ]
  },
  {
   "cell_type": "code",
   "execution_count": 15,
   "id": "cdfcec66-8a16-4493-80ae-b8fc60e88d6b",
   "metadata": {},
   "outputs": [
    {
     "data": {
      "text/plain": [
       "['a', 'b', 'c', 'd']"
      ]
     },
     "execution_count": 15,
     "metadata": {},
     "output_type": "execute_result"
    }
   ],
   "source": [
    "my_list"
   ]
  },
  {
   "cell_type": "code",
   "execution_count": 16,
   "id": "eba0d120-ff6d-4502-a63a-aa7d28dbf58d",
   "metadata": {},
   "outputs": [
    {
     "data": {
      "text/plain": [
       "['a']"
      ]
     },
     "execution_count": 16,
     "metadata": {},
     "output_type": "execute_result"
    }
   ],
   "source": [
    "my_list[:1]"
   ]
  },
  {
   "cell_type": "code",
   "execution_count": 17,
   "id": "ddef7afe-f897-46fe-83aa-01ef5aa100cf",
   "metadata": {},
   "outputs": [
    {
     "data": {
      "text/plain": [
       "['a', 'b']"
      ]
     },
     "execution_count": 17,
     "metadata": {},
     "output_type": "execute_result"
    }
   ],
   "source": [
    "my_list[:2]"
   ]
  },
  {
   "cell_type": "code",
   "execution_count": 18,
   "id": "239e9a69-a39a-431a-a594-f15e61715643",
   "metadata": {},
   "outputs": [],
   "source": [
    "my_list[0]='new'"
   ]
  },
  {
   "cell_type": "code",
   "execution_count": 19,
   "id": "002fc8c4-552e-405a-a02b-e3cedff11469",
   "metadata": {},
   "outputs": [
    {
     "data": {
      "text/plain": [
       "['new', 'b', 'c', 'd']"
      ]
     },
     "execution_count": 19,
     "metadata": {},
     "output_type": "execute_result"
    }
   ],
   "source": [
    "my_list"
   ]
  },
  {
   "cell_type": "code",
   "execution_count": 20,
   "id": "a2bb7db1-a26b-4fee-9625-10dd8ed8450b",
   "metadata": {},
   "outputs": [],
   "source": [
    "my_list.append('e')"
   ]
  },
  {
   "cell_type": "code",
   "execution_count": 22,
   "id": "a2ab8338-c616-4ac5-8f58-8884ca32a612",
   "metadata": {},
   "outputs": [
    {
     "data": {
      "text/plain": [
       "['new', 'b', 'c', 'd', 'e']"
      ]
     },
     "execution_count": 22,
     "metadata": {},
     "output_type": "execute_result"
    }
   ],
   "source": [
    "my_list"
   ]
  },
  {
   "cell_type": "code",
   "execution_count": 23,
   "id": "cb395d6e-0da3-4c5c-b720-62d6ebba7cfe",
   "metadata": {},
   "outputs": [],
   "source": [
    "t=(1,2,3)"
   ]
  },
  {
   "cell_type": "code",
   "execution_count": 24,
   "id": "35dae756-0131-4041-9792-c14f40b8f0b2",
   "metadata": {},
   "outputs": [
    {
     "data": {
      "text/plain": [
       "(1, 2, 3)"
      ]
     },
     "execution_count": 24,
     "metadata": {},
     "output_type": "execute_result"
    }
   ],
   "source": [
    "t"
   ]
  },
  {
   "cell_type": "code",
   "execution_count": 25,
   "id": "b30bed3c-e06f-43c4-a94e-0b2c99078d7d",
   "metadata": {},
   "outputs": [],
   "source": [
    "d={'Name':'Akshara','Age':20}"
   ]
  },
  {
   "cell_type": "code",
   "execution_count": 26,
   "id": "82df2878-9ecf-49ae-973a-61373a564f4e",
   "metadata": {},
   "outputs": [
    {
     "data": {
      "text/plain": [
       "{'Name': 'Akshara', 'Age': 20}"
      ]
     },
     "execution_count": 26,
     "metadata": {},
     "output_type": "execute_result"
    }
   ],
   "source": [
    "d"
   ]
  },
  {
   "cell_type": "code",
   "execution_count": 28,
   "id": "0acffa1a-c241-4cf3-ad9c-f308dba8370f",
   "metadata": {},
   "outputs": [
    {
     "data": {
      "text/plain": [
       "20"
      ]
     },
     "execution_count": 28,
     "metadata": {},
     "output_type": "execute_result"
    }
   ],
   "source": [
    "d['Age']"
   ]
  },
  {
   "cell_type": "code",
   "execution_count": 29,
   "id": "674b23d2-d5ba-4702-a18b-d4b0480c3ab0",
   "metadata": {},
   "outputs": [
    {
     "data": {
      "text/plain": [
       "'Akshara'"
      ]
     },
     "execution_count": 29,
     "metadata": {},
     "output_type": "execute_result"
    }
   ],
   "source": [
    "d['Name']"
   ]
  },
  {
   "cell_type": "code",
   "execution_count": 30,
   "id": "6fbfa212-6eb9-47ff-8b31-b3519034360c",
   "metadata": {},
   "outputs": [
    {
     "data": {
      "text/plain": [
       "{1, 2, 3, 4, 5, 6, 7}"
      ]
     },
     "execution_count": 30,
     "metadata": {},
     "output_type": "execute_result"
    }
   ],
   "source": [
    "{1,2,3,3,4,4,5,5,6,6,7}"
   ]
  },
  {
   "cell_type": "code",
   "execution_count": 31,
   "id": "9c0f862d-9794-43fa-8b3d-25f50914d754",
   "metadata": {},
   "outputs": [],
   "source": [
    "def times2(var):\n",
    "    return var*2"
   ]
  },
  {
   "cell_type": "code",
   "execution_count": 32,
   "id": "dc824527-a871-491f-be5b-f967b327cb93",
   "metadata": {},
   "outputs": [
    {
     "data": {
      "text/plain": [
       "4"
      ]
     },
     "execution_count": 32,
     "metadata": {},
     "output_type": "execute_result"
    }
   ],
   "source": [
    "times2(2)"
   ]
  },
  {
   "cell_type": "markdown",
   "id": "5ee5d112-9b6d-4fe0-aa82-cd201accf0d2",
   "metadata": {},
   "source": [
    "## lamda fns"
   ]
  },
  {
   "cell_type": "code",
   "execution_count": 33,
   "id": "4e3f3a8d-4b9c-4dec-afce-7397ac44f786",
   "metadata": {},
   "outputs": [],
   "source": [
    "times2=lambda var:var*2"
   ]
  },
  {
   "cell_type": "code",
   "execution_count": 34,
   "id": "a2fd1f70-c12f-48b6-93da-f12249bfb7b7",
   "metadata": {},
   "outputs": [
    {
     "name": "stdout",
     "output_type": "stream",
     "text": [
      "6\n"
     ]
    }
   ],
   "source": [
    "print(times2(3))"
   ]
  },
  {
   "cell_type": "code",
   "execution_count": 35,
   "id": "3ddec3d2-3827-473f-8c19-958da93021bd",
   "metadata": {},
   "outputs": [],
   "source": [
    "x=[1,2,3,4]"
   ]
  },
  {
   "cell_type": "code",
   "execution_count": 37,
   "id": "0a7c7a14-b29c-4cc9-b14e-8d345e5461cc",
   "metadata": {},
   "outputs": [
    {
     "name": "stdout",
     "output_type": "stream",
     "text": [
      "[1, 4, 9, 16]\n"
     ]
    }
   ],
   "source": [
    "out = []\n",
    "for item in x:\n",
    "    out.append(item**2)\n",
    "print(out)"
   ]
  },
  {
   "cell_type": "code",
   "execution_count": 38,
   "id": "20b4aad8-01d9-4475-a841-0588f0192860",
   "metadata": {},
   "outputs": [
    {
     "data": {
      "text/plain": [
       "[1, 4, 9, 16]"
      ]
     },
     "execution_count": 38,
     "metadata": {},
     "output_type": "execute_result"
    }
   ],
   "source": [
    "[item**2 for item in x]"
   ]
  },
  {
   "cell_type": "code",
   "execution_count": 39,
   "id": "73eb4cb1-c379-432e-b503-6aa40e3a79e7",
   "metadata": {},
   "outputs": [],
   "source": [
    "num=12\n",
    "name='sebin'"
   ]
  },
  {
   "cell_type": "code",
   "execution_count": 40,
   "id": "072f23d1-c04d-4a33-8b95-5e4354e6eb51",
   "metadata": {},
   "outputs": [
    {
     "name": "stdout",
     "output_type": "stream",
     "text": [
      "my number is :12,and my name is:sebin\n"
     ]
    }
   ],
   "source": [
    "print('my number is :{one},and my name is:{two}'.format(one=num,two=name))"
   ]
  },
  {
   "cell_type": "code",
   "execution_count": null,
   "id": "b25aa1d5-16f5-4ca9-8106-0d613d7721fb",
   "metadata": {},
   "outputs": [],
   "source": []
  }
 ],
 "metadata": {
  "kernelspec": {
   "display_name": "Python 3 (Intel® oneAPI 2023.2)",
   "language": "python",
   "name": "c009-intel_distribution_of_python_3_oneapi-beta05-python"
  },
  "language_info": {
   "codemirror_mode": {
    "name": "ipython",
    "version": 3
   },
   "file_extension": ".py",
   "mimetype": "text/x-python",
   "name": "python",
   "nbconvert_exporter": "python",
   "pygments_lexer": "ipython3",
   "version": "3.9.16"
  }
 },
 "nbformat": 4,
 "nbformat_minor": 5
}
